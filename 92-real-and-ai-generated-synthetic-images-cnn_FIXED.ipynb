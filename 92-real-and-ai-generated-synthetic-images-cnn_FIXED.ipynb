{
 "cells": [
  {
   "cell_type": "markdown",
   "id": "2008bb80",
   "metadata": {
    "papermill": {
     "duration": 0.013108,
     "end_time": "2023-05-16T01:52:24.136458",
     "exception": false,
     "start_time": "2023-05-16T01:52:24.123350",
     "status": "completed"
    },
    "tags": []
   },
   "source": [
    "## Basic Libraries"
   ]
  },
  {
   "cell_type": "code",
   "execution_count": 11,
   "id": "bd3acf67",
   "metadata": {
    "execution": {
     "iopub.execute_input": "2023-05-16T01:52:24.165562Z",
     "iopub.status.busy": "2023-05-16T01:52:24.164304Z",
     "iopub.status.idle": "2023-05-16T01:52:24.179240Z",
     "shell.execute_reply": "2023-05-16T01:52:24.177990Z"
    },
    "papermill": {
     "duration": 0.032141,
     "end_time": "2023-05-16T01:52:24.182055",
     "exception": false,
     "start_time": "2023-05-16T01:52:24.149914",
     "status": "completed"
    },
    "tags": []
   },
   "outputs": [],
   "source": [
    "import numpy as np\n",
    "import pandas as pd\n",
    "import os"
   ]
  },
  {
   "cell_type": "markdown",
   "id": "752e8799",
   "metadata": {
    "papermill": {
     "duration": 0.012655,
     "end_time": "2023-05-16T01:52:24.208022",
     "exception": false,
     "start_time": "2023-05-16T01:52:24.195367",
     "status": "completed"
    },
    "tags": []
   },
   "source": [
    "## Libraries for Image "
   ]
  },
  {
   "cell_type": "code",
   "execution_count": 12,
   "id": "407f6e41",
   "metadata": {
    "execution": {
     "iopub.execute_input": "2023-05-16T01:52:24.236227Z",
     "iopub.status.busy": "2023-05-16T01:52:24.235840Z",
     "iopub.status.idle": "2023-05-16T01:52:24.448991Z",
     "shell.execute_reply": "2023-05-16T01:52:24.447696Z"
    },
    "papermill": {
     "duration": 0.230516,
     "end_time": "2023-05-16T01:52:24.451889",
     "exception": false,
     "start_time": "2023-05-16T01:52:24.221373",
     "status": "completed"
    },
    "tags": []
   },
   "outputs": [],
   "source": [
    "# import cv2\n",
    "# import PIL\n",
    "import matplotlib.pyplot as plt\n",
    "import cv2\n",
    "import PIL\n",
    "from PIL import Image"
   ]
  },
  {
   "cell_type": "code",
   "execution_count": 13,
   "id": "86d5b895",
   "metadata": {
    "execution": {
     "iopub.execute_input": "2023-05-16T01:52:24.479985Z",
     "iopub.status.busy": "2023-05-16T01:52:24.479575Z",
     "iopub.status.idle": "2023-05-16T01:52:24.517122Z",
     "shell.execute_reply": "2023-05-16T01:52:24.516016Z"
    },
    "papermill": {
     "duration": 0.055184,
     "end_time": "2023-05-16T01:52:24.520043",
     "exception": false,
     "start_time": "2023-05-16T01:52:24.464859",
     "status": "completed"
    },
    "tags": []
   },
   "outputs": [
    {
     "name": "stdout",
     "output_type": "stream",
     "text": [
      "✅ Total images found: 4506\n",
      "['AI and real/train/fake\\\\0005.jpg', 'AI and real/train/fake\\\\0006.jpg', 'AI and real/train/fake\\\\0008.jpg', 'AI and real/train/fake\\\\0009.jpg', 'AI and real/train/fake\\\\0010.jpg']\n"
     ]
    }
   ],
   "source": [
    "\n",
    "from glob import glob\n",
    "\n",
    "# Get all image paths under the correct folder\n",
    "train_path_fake = sorted(glob(\"AI and real/train/fake/*.jpg\"))\n",
    "\n",
    "# Confirm how many are found\n",
    "print(\"✅ Total images found:\", len(train_path_fake))\n",
    "print(train_path_fake[:5])  # Show first few to confirm\n"
   ]
  },
  {
   "cell_type": "code",
   "execution_count": 14,
   "id": "d55fb478",
   "metadata": {},
   "outputs": [],
   "source": [
    "import cv2\n",
    "import numpy as np\n",
    "from tensorflow.keras.models import load_model\n",
    "import matplotlib.pyplot as plt\n",
    "\n",
    "model = load_model(\"model.h5\")\n",
    "\n",
    "def check_image(image_path):\n",
    "    img = cv2.imread(image_path)\n",
    "    img = cv2.cvtColor(img, cv2.COLOR_BGR2RGB)\n",
    "    img = cv2.resize(img, (32, 32))\n",
    "    img = img / 255.0\n",
    "    img = np.expand_dims(img, axis=0)\n",
    "\n",
    "    prediction = model.predict(img)\n",
    "    predicted_class = np.argmax(prediction)\n",
    "\n",
    "    plt.imshow(cv2.cvtColor(cv2.imread(image_path), cv2.COLOR_BGR2RGB))\n",
    "    plt.title(\"Prediction: \" + (\"fake\" if predicted_class == 0 else \"real\"))\n",
    "    plt.axis(\"off\")\n",
    "    plt.show()\n"
   ]
  },
  {
   "cell_type": "markdown",
   "id": "6a87a9c2",
   "metadata": {
    "papermill": {
     "duration": 0.012959,
     "end_time": "2023-05-16T01:52:24.602245",
     "exception": false,
     "start_time": "2023-05-16T01:52:24.589286",
     "status": "completed"
    },
    "tags": []
   },
   "source": [
    "## **TRAIN DATAFRAME**"
   ]
  },
  {
   "cell_type": "markdown",
   "id": "b978e994",
   "metadata": {
    "papermill": {
     "duration": 0.012777,
     "end_time": "2023-05-16T01:52:24.628027",
     "exception": false,
     "start_time": "2023-05-16T01:52:24.615250",
     "status": "completed"
    },
    "tags": []
   },
   "source": [
    "## Creating Training Dataframe for **\"Fake Image\"**"
   ]
  },
  {
   "cell_type": "code",
   "execution_count": 15,
   "id": "8f13fac3",
   "metadata": {
    "execution": {
     "iopub.execute_input": "2023-05-16T01:52:24.657259Z",
     "iopub.status.busy": "2023-05-16T01:52:24.656852Z",
     "iopub.status.idle": "2023-05-16T01:52:24.715970Z",
     "shell.execute_reply": "2023-05-16T01:52:24.715066Z"
    },
    "papermill": {
     "duration": 0.077316,
     "end_time": "2023-05-16T01:52:24.718371",
     "exception": false,
     "start_time": "2023-05-16T01:52:24.641055",
     "status": "completed"
    },
    "tags": []
   },
   "outputs": [
    {
     "data": {
      "text/plain": [
       "50000"
      ]
     },
     "execution_count": 15,
     "metadata": {},
     "output_type": "execute_result"
    }
   ],
   "source": [
    "train_path_fake =[]\n",
    "\n",
    "base_1 = 'AI and real/train/fake/'\n",
    "\n",
    "for i in range(1000,6000):\n",
    "    a = '{}{}.jpg'.format(base_1, i)\n",
    "    train_path_fake.append(a)\n",
    "\n",
    "for i in range(1000,6000):\n",
    "    for j in range(2,11):\n",
    "        b = '{}{} ({}).jpg'.format(base_1, i, j)\n",
    "        train_path_fake.append(b)\n",
    "len(train_path_fake)\n"
   ]
  },
  {
   "cell_type": "code",
   "execution_count": 16,
   "id": "cb02cec6",
   "metadata": {
    "execution": {
     "iopub.execute_input": "2023-05-16T01:52:24.747170Z",
     "iopub.status.busy": "2023-05-16T01:52:24.746737Z",
     "iopub.status.idle": "2023-05-16T01:52:24.795930Z",
     "shell.execute_reply": "2023-05-16T01:52:24.794778Z"
    },
    "papermill": {
     "duration": 0.066603,
     "end_time": "2023-05-16T01:52:24.798514",
     "exception": false,
     "start_time": "2023-05-16T01:52:24.731911",
     "status": "completed"
    },
    "tags": []
   },
   "outputs": [
    {
     "data": {
      "text/html": [
       "<div>\n",
       "<style scoped>\n",
       "    .dataframe tbody tr th:only-of-type {\n",
       "        vertical-align: middle;\n",
       "    }\n",
       "\n",
       "    .dataframe tbody tr th {\n",
       "        vertical-align: top;\n",
       "    }\n",
       "\n",
       "    .dataframe thead th {\n",
       "        text-align: right;\n",
       "    }\n",
       "</style>\n",
       "<table border=\"1\" class=\"dataframe\">\n",
       "  <thead>\n",
       "    <tr style=\"text-align: right;\">\n",
       "      <th></th>\n",
       "      <th>path</th>\n",
       "      <th>label</th>\n",
       "    </tr>\n",
       "  </thead>\n",
       "  <tbody>\n",
       "    <tr>\n",
       "      <th>0</th>\n",
       "      <td>AI and real/train/fake/1000.jpg</td>\n",
       "      <td>0</td>\n",
       "    </tr>\n",
       "    <tr>\n",
       "      <th>1</th>\n",
       "      <td>AI and real/train/fake/1001.jpg</td>\n",
       "      <td>0</td>\n",
       "    </tr>\n",
       "    <tr>\n",
       "      <th>2</th>\n",
       "      <td>AI and real/train/fake/1002.jpg</td>\n",
       "      <td>0</td>\n",
       "    </tr>\n",
       "    <tr>\n",
       "      <th>3</th>\n",
       "      <td>AI and real/train/fake/1003.jpg</td>\n",
       "      <td>0</td>\n",
       "    </tr>\n",
       "    <tr>\n",
       "      <th>4</th>\n",
       "      <td>AI and real/train/fake/1004.jpg</td>\n",
       "      <td>0</td>\n",
       "    </tr>\n",
       "  </tbody>\n",
       "</table>\n",
       "</div>"
      ],
      "text/plain": [
       "                              path  label\n",
       "0  AI and real/train/fake/1000.jpg      0\n",
       "1  AI and real/train/fake/1001.jpg      0\n",
       "2  AI and real/train/fake/1002.jpg      0\n",
       "3  AI and real/train/fake/1003.jpg      0\n",
       "4  AI and real/train/fake/1004.jpg      0"
      ]
     },
     "execution_count": 16,
     "metadata": {},
     "output_type": "execute_result"
    }
   ],
   "source": [
    "df_train_fake = pd.DataFrame(train_path_fake)\n",
    "df_train_fake.columns = ['path']\n",
    "df_train_fake['label'] = 0\n",
    "df_train_fake.head()"
   ]
  },
  {
   "cell_type": "markdown",
   "id": "6a8d89b6",
   "metadata": {
    "papermill": {
     "duration": 0.013266,
     "end_time": "2023-05-16T01:52:24.825676",
     "exception": false,
     "start_time": "2023-05-16T01:52:24.812410",
     "status": "completed"
    },
    "tags": []
   },
   "source": [
    "## Creating Training Dataframe for **\"Real Image\"**"
   ]
  },
  {
   "cell_type": "code",
   "execution_count": 17,
   "id": "2e7ecdf8",
   "metadata": {
    "execution": {
     "iopub.execute_input": "2023-05-16T01:52:24.855415Z",
     "iopub.status.busy": "2023-05-16T01:52:24.855000Z",
     "iopub.status.idle": "2023-05-16T01:52:24.863947Z",
     "shell.execute_reply": "2023-05-16T01:52:24.863018Z"
    },
    "papermill": {
     "duration": 0.026904,
     "end_time": "2023-05-16T01:52:24.866413",
     "exception": false,
     "start_time": "2023-05-16T01:52:24.839509",
     "status": "completed"
    },
    "tags": []
   },
   "outputs": [
    {
     "data": {
      "text/plain": [
       "100"
      ]
     },
     "execution_count": 17,
     "metadata": {},
     "output_type": "execute_result"
    }
   ],
   "source": [
    "train_path_real=[]\n",
    "\n",
    "base_2 = 'AI and real/train/real'\n",
    "\n",
    "for i in range(0,10):\n",
    "    c = '{}000{}.jpg'.format(base_2, i)\n",
    "    train_path_real.append(c)\n",
    "\n",
    "for i in range(0,10):\n",
    "    for j in range(2,11):\n",
    "        d = '{}000{} ({}).jpg'.format(base_2, i,j)\n",
    "        train_path_real.append(d)\n",
    "len(train_path_real)"
   ]
  },
  {
   "cell_type": "code",
   "execution_count": 18,
   "id": "85638cea",
   "metadata": {
    "execution": {
     "iopub.execute_input": "2023-05-16T01:52:24.895569Z",
     "iopub.status.busy": "2023-05-16T01:52:24.895197Z",
     "iopub.status.idle": "2023-05-16T01:52:24.905064Z",
     "shell.execute_reply": "2023-05-16T01:52:24.903920Z"
    },
    "papermill": {
     "duration": 0.027255,
     "end_time": "2023-05-16T01:52:24.907278",
     "exception": false,
     "start_time": "2023-05-16T01:52:24.880023",
     "status": "completed"
    },
    "tags": []
   },
   "outputs": [
    {
     "data": {
      "text/plain": [
       "1000"
      ]
     },
     "execution_count": 18,
     "metadata": {},
     "output_type": "execute_result"
    }
   ],
   "source": [
    "for i in range(10,100):\n",
    "    e = '{}00{}.jpg'.format(base_2, i)\n",
    "    train_path_real.append(e)\n",
    "\n",
    "\n",
    "for i in range(10,100):\n",
    "    for j in range(2,11):\n",
    "        f = '{}00{} ({}).jpg'.format(base_2, i,j)\n",
    "        train_path_real.append(f)\n",
    "len(train_path_real)"
   ]
  },
  {
   "cell_type": "code",
   "execution_count": 19,
   "id": "fb56bf8b",
   "metadata": {
    "execution": {
     "iopub.execute_input": "2023-05-16T01:52:24.936887Z",
     "iopub.status.busy": "2023-05-16T01:52:24.936429Z",
     "iopub.status.idle": "2023-05-16T01:52:24.954845Z",
     "shell.execute_reply": "2023-05-16T01:52:24.953738Z"
    },
    "papermill": {
     "duration": 0.036205,
     "end_time": "2023-05-16T01:52:24.957281",
     "exception": false,
     "start_time": "2023-05-16T01:52:24.921076",
     "status": "completed"
    },
    "tags": []
   },
   "outputs": [
    {
     "data": {
      "text/plain": [
       "10000"
      ]
     },
     "execution_count": 19,
     "metadata": {},
     "output_type": "execute_result"
    }
   ],
   "source": [
    "for i in range(100,1000):\n",
    "    g = '{}0{}.jpg'.format(base_2, i)\n",
    "    train_path_real.append(g)\n",
    "\n",
    "for i in range(100,1000):\n",
    "    for j in range(2,11):\n",
    "        h = '{}0{} ({}).jpg'.format(base_2, i,j)\n",
    "        train_path_real.append(h)\n",
    "len(train_path_real)"
   ]
  },
  {
   "cell_type": "code",
   "execution_count": 20,
   "id": "08bca58c",
   "metadata": {
    "execution": {
     "iopub.execute_input": "2023-05-16T01:52:24.987301Z",
     "iopub.status.busy": "2023-05-16T01:52:24.986887Z",
     "iopub.status.idle": "2023-05-16T01:52:25.035372Z",
     "shell.execute_reply": "2023-05-16T01:52:25.034066Z"
    },
    "papermill": {
     "duration": 0.066719,
     "end_time": "2023-05-16T01:52:25.038120",
     "exception": false,
     "start_time": "2023-05-16T01:52:24.971401",
     "status": "completed"
    },
    "tags": []
   },
   "outputs": [
    {
     "data": {
      "text/plain": [
       "50000"
      ]
     },
     "execution_count": 20,
     "metadata": {},
     "output_type": "execute_result"
    }
   ],
   "source": [
    "\n",
    "for i in range(1000,5000):\n",
    "    k = '{}{}.jpg'.format(base_2, i)\n",
    "    train_path_real.append(k)\n",
    "\n",
    "for i in range(1000,5000):\n",
    "    for j in range(2,11):\n",
    "        l = '{}{} ({}).jpg'.format(base_2, i,j)\n",
    "        train_path_real.append(l)\n",
    "len(train_path_real)\n"
   ]
  },
  {
   "cell_type": "code",
   "execution_count": 21,
   "id": "e508cf15",
   "metadata": {
    "execution": {
     "iopub.execute_input": "2023-05-16T01:52:25.068212Z",
     "iopub.status.busy": "2023-05-16T01:52:25.067454Z",
     "iopub.status.idle": "2023-05-16T01:52:25.083647Z",
     "shell.execute_reply": "2023-05-16T01:52:25.082499Z"
    },
    "papermill": {
     "duration": 0.033659,
     "end_time": "2023-05-16T01:52:25.085875",
     "exception": false,
     "start_time": "2023-05-16T01:52:25.052216",
     "status": "completed"
    },
    "tags": []
   },
   "outputs": [
    {
     "data": {
      "text/html": [
       "<div>\n",
       "<style scoped>\n",
       "    .dataframe tbody tr th:only-of-type {\n",
       "        vertical-align: middle;\n",
       "    }\n",
       "\n",
       "    .dataframe tbody tr th {\n",
       "        vertical-align: top;\n",
       "    }\n",
       "\n",
       "    .dataframe thead th {\n",
       "        text-align: right;\n",
       "    }\n",
       "</style>\n",
       "<table border=\"1\" class=\"dataframe\">\n",
       "  <thead>\n",
       "    <tr style=\"text-align: right;\">\n",
       "      <th></th>\n",
       "      <th>path</th>\n",
       "      <th>label</th>\n",
       "    </tr>\n",
       "  </thead>\n",
       "  <tbody>\n",
       "    <tr>\n",
       "      <th>0</th>\n",
       "      <td>AI and real/train/real0000.jpg</td>\n",
       "      <td>1</td>\n",
       "    </tr>\n",
       "    <tr>\n",
       "      <th>1</th>\n",
       "      <td>AI and real/train/real0001.jpg</td>\n",
       "      <td>1</td>\n",
       "    </tr>\n",
       "    <tr>\n",
       "      <th>2</th>\n",
       "      <td>AI and real/train/real0002.jpg</td>\n",
       "      <td>1</td>\n",
       "    </tr>\n",
       "    <tr>\n",
       "      <th>3</th>\n",
       "      <td>AI and real/train/real0003.jpg</td>\n",
       "      <td>1</td>\n",
       "    </tr>\n",
       "    <tr>\n",
       "      <th>4</th>\n",
       "      <td>AI and real/train/real0004.jpg</td>\n",
       "      <td>1</td>\n",
       "    </tr>\n",
       "  </tbody>\n",
       "</table>\n",
       "</div>"
      ],
      "text/plain": [
       "                             path  label\n",
       "0  AI and real/train/real0000.jpg      1\n",
       "1  AI and real/train/real0001.jpg      1\n",
       "2  AI and real/train/real0002.jpg      1\n",
       "3  AI and real/train/real0003.jpg      1\n",
       "4  AI and real/train/real0004.jpg      1"
      ]
     },
     "execution_count": 21,
     "metadata": {},
     "output_type": "execute_result"
    }
   ],
   "source": [
    "df_train_real = pd.DataFrame(train_path_real)\n",
    "df_train_real.columns = ['path']\n",
    "df_train_real['label'] = 1\n",
    "df_train_real.head()"
   ]
  },
  {
   "cell_type": "markdown",
   "id": "43891fd4",
   "metadata": {
    "papermill": {
     "duration": 0.014079,
     "end_time": "2023-05-16T01:52:25.114408",
     "exception": false,
     "start_time": "2023-05-16T01:52:25.100329",
     "status": "completed"
    },
    "tags": []
   },
   "source": [
    "## Using **\"concat\"** to create  **\"df_train\"**"
   ]
  },
  {
   "cell_type": "code",
   "execution_count": 22,
   "id": "7a87a3a0",
   "metadata": {
    "execution": {
     "iopub.execute_input": "2023-05-16T01:52:25.144899Z",
     "iopub.status.busy": "2023-05-16T01:52:25.144470Z",
     "iopub.status.idle": "2023-05-16T01:52:25.169985Z",
     "shell.execute_reply": "2023-05-16T01:52:25.168738Z"
    },
    "papermill": {
     "duration": 0.043494,
     "end_time": "2023-05-16T01:52:25.172283",
     "exception": false,
     "start_time": "2023-05-16T01:52:25.128789",
     "status": "completed"
    },
    "tags": []
   },
   "outputs": [
    {
     "name": "stdout",
     "output_type": "stream",
     "text": [
      "(100000, 2)\n"
     ]
    },
    {
     "data": {
      "text/html": [
       "<div>\n",
       "<style scoped>\n",
       "    .dataframe tbody tr th:only-of-type {\n",
       "        vertical-align: middle;\n",
       "    }\n",
       "\n",
       "    .dataframe tbody tr th {\n",
       "        vertical-align: top;\n",
       "    }\n",
       "\n",
       "    .dataframe thead th {\n",
       "        text-align: right;\n",
       "    }\n",
       "</style>\n",
       "<table border=\"1\" class=\"dataframe\">\n",
       "  <thead>\n",
       "    <tr style=\"text-align: right;\">\n",
       "      <th></th>\n",
       "      <th>path</th>\n",
       "      <th>label</th>\n",
       "    </tr>\n",
       "  </thead>\n",
       "  <tbody>\n",
       "    <tr>\n",
       "      <th>49672</th>\n",
       "      <td>AI and real/train/real4963 (7).jpg</td>\n",
       "      <td>1</td>\n",
       "    </tr>\n",
       "    <tr>\n",
       "      <th>24186</th>\n",
       "      <td>AI and real/train/real2131 (9).jpg</td>\n",
       "      <td>1</td>\n",
       "    </tr>\n",
       "    <tr>\n",
       "      <th>4348</th>\n",
       "      <td>AI and real/train/fake/5348.jpg</td>\n",
       "      <td>0</td>\n",
       "    </tr>\n",
       "    <tr>\n",
       "      <th>38039</th>\n",
       "      <td>AI and real/train/real3671 (2).jpg</td>\n",
       "      <td>1</td>\n",
       "    </tr>\n",
       "    <tr>\n",
       "      <th>29868</th>\n",
       "      <td>AI and real/train/fake/3763 (3).jpg</td>\n",
       "      <td>0</td>\n",
       "    </tr>\n",
       "  </tbody>\n",
       "</table>\n",
       "</div>"
      ],
      "text/plain": [
       "                                      path  label\n",
       "49672   AI and real/train/real4963 (7).jpg      1\n",
       "24186   AI and real/train/real2131 (9).jpg      1\n",
       "4348       AI and real/train/fake/5348.jpg      0\n",
       "38039   AI and real/train/real3671 (2).jpg      1\n",
       "29868  AI and real/train/fake/3763 (3).jpg      0"
      ]
     },
     "execution_count": 22,
     "metadata": {},
     "output_type": "execute_result"
    }
   ],
   "source": [
    "df_train = pd.concat((df_train_fake, df_train_real), axis = 0 )\n",
    "print(df_train.shape)\n",
    "df_train.sample(5)\n"
   ]
  },
  {
   "cell_type": "markdown",
   "id": "b587771f",
   "metadata": {
    "papermill": {
     "duration": 0.014864,
     "end_time": "2023-05-16T01:52:25.201771",
     "exception": false,
     "start_time": "2023-05-16T01:52:25.186907",
     "status": "completed"
    },
    "tags": []
   },
   "source": [
    "## Using **'cv2'** for X_train "
   ]
  },
  {
   "cell_type": "code",
   "execution_count": 23,
   "id": "450190ce",
   "metadata": {},
   "outputs": [],
   "source": [
    "import os\n",
    "\n",
    "# Fix the paths: Add the full directory if needed\n",
    "df_train['path'] = df_train['path'].apply(lambda x: os.path.join(\"AI and real\", x))\n"
   ]
  },
  {
   "cell_type": "code",
   "execution_count": 24,
   "id": "4bb0c373",
   "metadata": {},
   "outputs": [
    {
     "name": "stdout",
     "output_type": "stream",
     "text": [
      "Loaded: True\n"
     ]
    }
   ],
   "source": [
    "test_path = (\"C:/Users/MEKALA POOJA/OneDrive/Desktop/real-vs-ai-generated-image-classification-and-detection-main/AI and real/train/fake/0005.jpg\")\n",
    "img = cv2.imread(test_path)\n",
    "\n",
    "print(\"Loaded:\", img is not None)\n"
   ]
  },
  {
   "cell_type": "code",
   "execution_count": 25,
   "id": "7187fa36",
   "metadata": {},
   "outputs": [
    {
     "name": "stdout",
     "output_type": "stream",
     "text": [
      "                                          path  label\n",
      "0  AI and real\\AI and real/train/fake/1000.jpg      0\n",
      "1  AI and real\\AI and real/train/fake/1001.jpg      0\n",
      "2  AI and real\\AI and real/train/fake/1002.jpg      0\n",
      "3  AI and real\\AI and real/train/fake/1003.jpg      0\n",
      "4  AI and real\\AI and real/train/fake/1004.jpg      0\n"
     ]
    }
   ],
   "source": [
    "print(df_train.head())\n"
   ]
  },
  {
   "cell_type": "code",
   "execution_count": 26,
   "id": "2a122cc3",
   "metadata": {},
   "outputs": [],
   "source": [
    "import os\n",
    "\n",
    "# ✅ Remove rows where the image path doesn't really exist\n",
    "df_train = df_train[df_train['path'].apply(lambda x: os.path.exists(x))]\n"
   ]
  },
  {
   "cell_type": "code",
   "execution_count": 27,
   "id": "6e1fae63",
   "metadata": {},
   "outputs": [],
   "source": [
    "import os\n",
    "\n",
    "base_dir = os.getcwd()\n",
    "\n",
    "df_train['path'] = df_train['path'].apply(lambda x: os.path.join(base_dir, x))\n"
   ]
  },
  {
   "cell_type": "code",
   "execution_count": 28,
   "id": "41e4d91c",
   "metadata": {},
   "outputs": [],
   "source": [
    "df_train = df_train[df_train['path'].apply(lambda x: os.path.exists(x))]\n"
   ]
  },
  {
   "cell_type": "code",
   "execution_count": 29,
   "id": "f08b0204",
   "metadata": {},
   "outputs": [],
   "source": [
    "import pandas as pd\n",
    "from glob import glob\n",
    "\n",
    "# Step 1: Get all image file paths\n",
    "train_path_fake = sorted(glob(\"AI and real/train/fake/*.jpg\"))\n",
    "\n",
    "# Step 2: Create the dataframe with 'path' and 'label'\n",
    "df_train = pd.DataFrame({'path': train_path_fake, 'label': 0})\n"
   ]
  },
  {
   "cell_type": "code",
   "execution_count": 30,
   "id": "6aa7158a",
   "metadata": {},
   "outputs": [],
   "source": [
    "import cv2\n",
    "import numpy as np\n",
    "\n",
    "image_df = []\n",
    "\n",
    "for image in df_train['path']:\n",
    "    img = cv2.imread(image)\n",
    "\n",
    "    if img is None:\n",
    "        print(f\"⚠️ Image not loaded: {image}\")\n",
    "        continue\n",
    "\n",
    "    resized = cv2.resize(img, (32, 32))\n",
    "    image_df.append(resized)\n",
    "\n",
    "# Convert to numpy array\n",
    "image_array = np.array(image_df)\n",
    "X_train = image_array / 255  # Normalize pixel values\n"
   ]
  },
  {
   "cell_type": "code",
   "execution_count": 31,
   "id": "03fb442e",
   "metadata": {},
   "outputs": [
    {
     "name": "stdout",
     "output_type": "stream",
     "text": [
      "X_train shape: (4506, 32, 32, 3)\n"
     ]
    }
   ],
   "source": [
    "print(\"X_train shape:\", X_train.shape)\n"
   ]
  },
  {
   "cell_type": "code",
   "execution_count": 32,
   "id": "3e433035",
   "metadata": {},
   "outputs": [
    {
     "name": "stdout",
     "output_type": "stream",
     "text": [
      "X_train shape: (4506, 32, 32, 3)\n"
     ]
    }
   ],
   "source": [
    "print(\"X_train shape:\", X_train.shape)\n",
    "#print(\"y_train shape:\", y_train.shape)\n"
   ]
  },
  {
   "cell_type": "code",
   "execution_count": 33,
   "id": "33ae568b",
   "metadata": {
    "execution": {
     "iopub.execute_input": "2023-05-16T01:52:25.233474Z",
     "iopub.status.busy": "2023-05-16T01:52:25.233023Z",
     "iopub.status.idle": "2023-05-16T02:05:24.967917Z",
     "shell.execute_reply": "2023-05-16T02:05:24.966622Z"
    },
    "papermill": {
     "duration": 779.768817,
     "end_time": "2023-05-16T02:05:24.985373",
     "exception": false,
     "start_time": "2023-05-16T01:52:25.216556",
     "status": "completed"
    },
    "tags": []
   },
   "outputs": [],
   "source": [
    "# # image_df = []\n",
    "# # for image in df_train['path']:\n",
    "# #     img = cv2.imread(image)\n",
    "# #     resized = cv2.resize(img,(32,32))\n",
    "# #     image_df.append(resized)\n",
    "# # image_array = np.array(image_df)\n",
    "# # X_train = image_array/255\n",
    "# # X_train.ndim\n",
    "\n",
    "# import cv2\n",
    "# import numpy as np\n",
    "# import os\n",
    "\n",
    "# # ✅ Build full absolute path for each image\n",
    "# base_dir = os.getcwd()\n",
    "# df_train['path'] = df_train['path'].apply(lambda x: os.path.join(base_dir, x))\n",
    "\n",
    "# image_df = []\n",
    "\n",
    "# for image in df_train['path']:\n",
    "#     img = cv2.imread(image)\n",
    "\n",
    "#     if img is None:\n",
    "#         print(f\"⚠️ Image not loaded: {image}\")\n",
    "#         continue\n",
    "\n",
    "#     resized = cv2.resize(img, (32, 32))\n",
    "#     image_df.append(resized)\n",
    "\n",
    "# image_array = np.array(image_df)\n",
    "# x_train = image_array / 255\n",
    "# print(\"✅ Shape of x_train:\", x_train.shape)\n",
    "\n",
    "# # Optional: test 1 image\n",
    "# img = cv2.imread(df_train['path'][10])\n",
    "# print(\"✅ Loaded:\", img is not None)\n"
   ]
  },
  {
   "cell_type": "code",
   "execution_count": 34,
   "id": "276ebc69",
   "metadata": {},
   "outputs": [
    {
     "name": "stdout",
     "output_type": "stream",
     "text": [
      "                              path  label\n",
      "0  AI and real/train/fake\\0005.jpg      0\n",
      "1  AI and real/train/fake\\0006.jpg      0\n",
      "2  AI and real/train/fake\\0008.jpg      0\n",
      "3  AI and real/train/fake\\0009.jpg      0\n",
      "4  AI and real/train/fake\\0010.jpg      0\n"
     ]
    }
   ],
   "source": [
    "print(df_train.head())\n"
   ]
  },
  {
   "cell_type": "code",
   "execution_count": 35,
   "id": "f5d37c98",
   "metadata": {
    "execution": {
     "iopub.execute_input": "2023-05-16T02:05:25.016505Z",
     "iopub.status.busy": "2023-05-16T02:05:25.016115Z",
     "iopub.status.idle": "2023-05-16T02:05:25.024259Z",
     "shell.execute_reply": "2023-05-16T02:05:25.023178Z"
    },
    "papermill": {
     "duration": 0.026986,
     "end_time": "2023-05-16T02:05:25.027013",
     "exception": false,
     "start_time": "2023-05-16T02:05:25.000027",
     "status": "completed"
    },
    "tags": []
   },
   "outputs": [
    {
     "data": {
      "text/plain": [
       "0    0\n",
       "1    0\n",
       "2    0\n",
       "3    0\n",
       "4    0\n",
       "Name: label, dtype: int64"
      ]
     },
     "execution_count": 35,
     "metadata": {},
     "output_type": "execute_result"
    }
   ],
   "source": [
    "y_train = df_train['label']\n",
    "y_train.head()"
   ]
  },
  {
   "cell_type": "markdown",
   "id": "c0607ab1",
   "metadata": {
    "papermill": {
     "duration": 0.014569,
     "end_time": "2023-05-16T02:05:25.057037",
     "exception": false,
     "start_time": "2023-05-16T02:05:25.042468",
     "status": "completed"
    },
    "tags": []
   },
   "source": [
    "## **TEST DATAFRAME**"
   ]
  },
  {
   "cell_type": "markdown",
   "id": "8dc0b134",
   "metadata": {
    "papermill": {
     "duration": 0.014459,
     "end_time": "2023-05-16T02:05:25.086367",
     "exception": false,
     "start_time": "2023-05-16T02:05:25.071908",
     "status": "completed"
    },
    "tags": []
   },
   "source": [
    "## Creating Testing Dataframe for **\"Fake Image\"**"
   ]
  },
  {
   "cell_type": "code",
   "execution_count": 36,
   "id": "22776197",
   "metadata": {
    "execution": {
     "iopub.execute_input": "2023-05-16T02:05:25.118933Z",
     "iopub.status.busy": "2023-05-16T02:05:25.118189Z",
     "iopub.status.idle": "2023-05-16T02:05:25.140696Z",
     "shell.execute_reply": "2023-05-16T02:05:25.139506Z"
    },
    "papermill": {
     "duration": 0.041698,
     "end_time": "2023-05-16T02:05:25.143414",
     "exception": false,
     "start_time": "2023-05-16T02:05:25.101716",
     "status": "completed"
    },
    "tags": []
   },
   "outputs": [
    {
     "data": {
      "text/plain": [
       "10000"
      ]
     },
     "execution_count": 36,
     "metadata": {},
     "output_type": "execute_result"
    }
   ],
   "source": [
    "test_path_fake =[]\n",
    "\n",
    "base_3 = 'AI and real/train/fake/'\n",
    "for i in range(0,1000):\n",
    "    m = '{}{}.jpg'.format(base_3, i)\n",
    "    test_path_fake.append(m)\n",
    "    \n",
    "for i in range(0,1000):\n",
    "    for j in range(2,11):\n",
    "        n = '{}{} ({}).jpg'.format(base_3, i, j)\n",
    "        test_path_fake.append(n)\n",
    "len(test_path_fake)\n"
   ]
  },
  {
   "cell_type": "code",
   "execution_count": 37,
   "id": "7bcd74f0",
   "metadata": {
    "execution": {
     "iopub.execute_input": "2023-05-16T02:05:25.175143Z",
     "iopub.status.busy": "2023-05-16T02:05:25.174727Z",
     "iopub.status.idle": "2023-05-16T02:05:25.188360Z",
     "shell.execute_reply": "2023-05-16T02:05:25.187307Z"
    },
    "papermill": {
     "duration": 0.032367,
     "end_time": "2023-05-16T02:05:25.190820",
     "exception": false,
     "start_time": "2023-05-16T02:05:25.158453",
     "status": "completed"
    },
    "tags": []
   },
   "outputs": [
    {
     "data": {
      "text/html": [
       "<div>\n",
       "<style scoped>\n",
       "    .dataframe tbody tr th:only-of-type {\n",
       "        vertical-align: middle;\n",
       "    }\n",
       "\n",
       "    .dataframe tbody tr th {\n",
       "        vertical-align: top;\n",
       "    }\n",
       "\n",
       "    .dataframe thead th {\n",
       "        text-align: right;\n",
       "    }\n",
       "</style>\n",
       "<table border=\"1\" class=\"dataframe\">\n",
       "  <thead>\n",
       "    <tr style=\"text-align: right;\">\n",
       "      <th></th>\n",
       "      <th>path</th>\n",
       "      <th>label</th>\n",
       "    </tr>\n",
       "  </thead>\n",
       "  <tbody>\n",
       "    <tr>\n",
       "      <th>0</th>\n",
       "      <td>AI and real/train/fake/0.jpg</td>\n",
       "      <td>0</td>\n",
       "    </tr>\n",
       "    <tr>\n",
       "      <th>1</th>\n",
       "      <td>AI and real/train/fake/1.jpg</td>\n",
       "      <td>0</td>\n",
       "    </tr>\n",
       "    <tr>\n",
       "      <th>2</th>\n",
       "      <td>AI and real/train/fake/2.jpg</td>\n",
       "      <td>0</td>\n",
       "    </tr>\n",
       "    <tr>\n",
       "      <th>3</th>\n",
       "      <td>AI and real/train/fake/3.jpg</td>\n",
       "      <td>0</td>\n",
       "    </tr>\n",
       "    <tr>\n",
       "      <th>4</th>\n",
       "      <td>AI and real/train/fake/4.jpg</td>\n",
       "      <td>0</td>\n",
       "    </tr>\n",
       "  </tbody>\n",
       "</table>\n",
       "</div>"
      ],
      "text/plain": [
       "                           path  label\n",
       "0  AI and real/train/fake/0.jpg      0\n",
       "1  AI and real/train/fake/1.jpg      0\n",
       "2  AI and real/train/fake/2.jpg      0\n",
       "3  AI and real/train/fake/3.jpg      0\n",
       "4  AI and real/train/fake/4.jpg      0"
      ]
     },
     "execution_count": 37,
     "metadata": {},
     "output_type": "execute_result"
    }
   ],
   "source": [
    "df_test_fake = pd.DataFrame(test_path_fake)\n",
    "df_test_fake.columns = ['path']\n",
    "df_test_fake['label'] = 0\n",
    "df_test_fake.head()"
   ]
  },
  {
   "cell_type": "markdown",
   "id": "f1bb5cff",
   "metadata": {
    "papermill": {
     "duration": 0.015363,
     "end_time": "2023-05-16T02:05:25.221944",
     "exception": false,
     "start_time": "2023-05-16T02:05:25.206581",
     "status": "completed"
    },
    "tags": []
   },
   "source": [
    "## Creating Testing Dataframe for **\"Real Image\"**"
   ]
  },
  {
   "cell_type": "code",
   "execution_count": 38,
   "id": "82382dc6",
   "metadata": {
    "execution": {
     "iopub.execute_input": "2023-05-16T02:05:25.254131Z",
     "iopub.status.busy": "2023-05-16T02:05:25.253701Z",
     "iopub.status.idle": "2023-05-16T02:05:25.263253Z",
     "shell.execute_reply": "2023-05-16T02:05:25.262210Z"
    },
    "papermill": {
     "duration": 0.028521,
     "end_time": "2023-05-16T02:05:25.265710",
     "exception": false,
     "start_time": "2023-05-16T02:05:25.237189",
     "status": "completed"
    },
    "tags": []
   },
   "outputs": [
    {
     "data": {
      "text/plain": [
       "100"
      ]
     },
     "execution_count": 38,
     "metadata": {},
     "output_type": "execute_result"
    }
   ],
   "source": [
    "test_path_real =[]\n",
    "\n",
    "base_4 = ('AI and real/test/real/0005.jpg')\n",
    "for i in range(0,10):\n",
    "    o = '{}000{}.jpg'.format(base_4, i)\n",
    "    test_path_real.append(o)\n",
    "\n",
    "for i in range(0,10):\n",
    "    for j in range(2,11):\n",
    "        p = '{}000{} ({}).jpg'.format(base_4, i,j)\n",
    "        test_path_real.append(p)\n",
    "len(test_path_real)\n"
   ]
  },
  {
   "cell_type": "code",
   "execution_count": 39,
   "id": "68e30484",
   "metadata": {
    "execution": {
     "iopub.execute_input": "2023-05-16T02:05:25.298306Z",
     "iopub.status.busy": "2023-05-16T02:05:25.297872Z",
     "iopub.status.idle": "2023-05-16T02:05:25.308297Z",
     "shell.execute_reply": "2023-05-16T02:05:25.307080Z"
    },
    "papermill": {
     "duration": 0.029756,
     "end_time": "2023-05-16T02:05:25.310868",
     "exception": false,
     "start_time": "2023-05-16T02:05:25.281112",
     "status": "completed"
    },
    "tags": []
   },
   "outputs": [
    {
     "data": {
      "text/plain": [
       "1000"
      ]
     },
     "execution_count": 39,
     "metadata": {},
     "output_type": "execute_result"
    }
   ],
   "source": [
    "for i in range(10,100):\n",
    "    q = '{}00{}.jpg'.format(base_4, i)\n",
    "    test_path_real.append(q)\n",
    "\n",
    "for i in range(10,100):\n",
    "    for j in range(2,11):\n",
    "        r = '{}00{} ({}).jpg'.format(base_4, i,j)\n",
    "        test_path_real.append(r)\n",
    "len(test_path_real) \n"
   ]
  },
  {
   "cell_type": "code",
   "execution_count": 40,
   "id": "4ff7106a",
   "metadata": {
    "execution": {
     "iopub.execute_input": "2023-05-16T02:05:25.343520Z",
     "iopub.status.busy": "2023-05-16T02:05:25.343110Z",
     "iopub.status.idle": "2023-05-16T02:05:25.363235Z",
     "shell.execute_reply": "2023-05-16T02:05:25.362334Z"
    },
    "papermill": {
     "duration": 0.039055,
     "end_time": "2023-05-16T02:05:25.365389",
     "exception": false,
     "start_time": "2023-05-16T02:05:25.326334",
     "status": "completed"
    },
    "tags": []
   },
   "outputs": [
    {
     "data": {
      "text/plain": [
       "10000"
      ]
     },
     "execution_count": 40,
     "metadata": {},
     "output_type": "execute_result"
    }
   ],
   "source": [
    "for i in range(100,1000):\n",
    "    s = '{}0{}.jpg'.format(base_4, i)\n",
    "    test_path_real.append(s)\n",
    "    \n",
    "for i in range(100,1000):\n",
    "    for j in range(2,11):\n",
    "        t = '{}0{} ({}).jpg'.format(base_4, i,j)\n",
    "        test_path_real.append(t)\n",
    "len(test_path_real)"
   ]
  },
  {
   "cell_type": "code",
   "execution_count": 41,
   "id": "69884b25",
   "metadata": {
    "execution": {
     "iopub.execute_input": "2023-05-16T02:05:25.398357Z",
     "iopub.status.busy": "2023-05-16T02:05:25.397951Z",
     "iopub.status.idle": "2023-05-16T02:05:25.411404Z",
     "shell.execute_reply": "2023-05-16T02:05:25.410251Z"
    },
    "papermill": {
     "duration": 0.032679,
     "end_time": "2023-05-16T02:05:25.413707",
     "exception": false,
     "start_time": "2023-05-16T02:05:25.381028",
     "status": "completed"
    },
    "tags": []
   },
   "outputs": [
    {
     "data": {
      "text/html": [
       "<div>\n",
       "<style scoped>\n",
       "    .dataframe tbody tr th:only-of-type {\n",
       "        vertical-align: middle;\n",
       "    }\n",
       "\n",
       "    .dataframe tbody tr th {\n",
       "        vertical-align: top;\n",
       "    }\n",
       "\n",
       "    .dataframe thead th {\n",
       "        text-align: right;\n",
       "    }\n",
       "</style>\n",
       "<table border=\"1\" class=\"dataframe\">\n",
       "  <thead>\n",
       "    <tr style=\"text-align: right;\">\n",
       "      <th></th>\n",
       "      <th>path</th>\n",
       "      <th>label</th>\n",
       "    </tr>\n",
       "  </thead>\n",
       "  <tbody>\n",
       "    <tr>\n",
       "      <th>0</th>\n",
       "      <td>AI and real/test/real/0005.jpg0000.jpg</td>\n",
       "      <td>1</td>\n",
       "    </tr>\n",
       "    <tr>\n",
       "      <th>1</th>\n",
       "      <td>AI and real/test/real/0005.jpg0001.jpg</td>\n",
       "      <td>1</td>\n",
       "    </tr>\n",
       "    <tr>\n",
       "      <th>2</th>\n",
       "      <td>AI and real/test/real/0005.jpg0002.jpg</td>\n",
       "      <td>1</td>\n",
       "    </tr>\n",
       "    <tr>\n",
       "      <th>3</th>\n",
       "      <td>AI and real/test/real/0005.jpg0003.jpg</td>\n",
       "      <td>1</td>\n",
       "    </tr>\n",
       "    <tr>\n",
       "      <th>4</th>\n",
       "      <td>AI and real/test/real/0005.jpg0004.jpg</td>\n",
       "      <td>1</td>\n",
       "    </tr>\n",
       "  </tbody>\n",
       "</table>\n",
       "</div>"
      ],
      "text/plain": [
       "                                     path  label\n",
       "0  AI and real/test/real/0005.jpg0000.jpg      1\n",
       "1  AI and real/test/real/0005.jpg0001.jpg      1\n",
       "2  AI and real/test/real/0005.jpg0002.jpg      1\n",
       "3  AI and real/test/real/0005.jpg0003.jpg      1\n",
       "4  AI and real/test/real/0005.jpg0004.jpg      1"
      ]
     },
     "execution_count": 41,
     "metadata": {},
     "output_type": "execute_result"
    }
   ],
   "source": [
    "df_test_real = pd.DataFrame(test_path_real)\n",
    "df_test_real.columns = ['path']\n",
    "df_test_real['label'] = 1\n",
    "df_test_real.head()"
   ]
  },
  {
   "cell_type": "markdown",
   "id": "ac513591",
   "metadata": {
    "papermill": {
     "duration": 0.01539,
     "end_time": "2023-05-16T02:05:25.444894",
     "exception": false,
     "start_time": "2023-05-16T02:05:25.429504",
     "status": "completed"
    },
    "tags": []
   },
   "source": [
    "## Using **\"concat\"** to create  **\"df_test\"**"
   ]
  },
  {
   "cell_type": "code",
   "execution_count": 42,
   "id": "2fdc0103",
   "metadata": {
    "execution": {
     "iopub.execute_input": "2023-05-16T02:05:25.478067Z",
     "iopub.status.busy": "2023-05-16T02:05:25.477669Z",
     "iopub.status.idle": "2023-05-16T02:05:25.492235Z",
     "shell.execute_reply": "2023-05-16T02:05:25.491171Z"
    },
    "papermill": {
     "duration": 0.033727,
     "end_time": "2023-05-16T02:05:25.494332",
     "exception": false,
     "start_time": "2023-05-16T02:05:25.460605",
     "status": "completed"
    },
    "tags": []
   },
   "outputs": [
    {
     "name": "stdout",
     "output_type": "stream",
     "text": [
      "(20000, 2)\n"
     ]
    },
    {
     "data": {
      "text/html": [
       "<div>\n",
       "<style scoped>\n",
       "    .dataframe tbody tr th:only-of-type {\n",
       "        vertical-align: middle;\n",
       "    }\n",
       "\n",
       "    .dataframe tbody tr th {\n",
       "        vertical-align: top;\n",
       "    }\n",
       "\n",
       "    .dataframe thead th {\n",
       "        text-align: right;\n",
       "    }\n",
       "</style>\n",
       "<table border=\"1\" class=\"dataframe\">\n",
       "  <thead>\n",
       "    <tr style=\"text-align: right;\">\n",
       "      <th></th>\n",
       "      <th>path</th>\n",
       "      <th>label</th>\n",
       "    </tr>\n",
       "  </thead>\n",
       "  <tbody>\n",
       "    <tr>\n",
       "      <th>9787</th>\n",
       "      <td>AI and real/train/fake/976 (5).jpg</td>\n",
       "      <td>0</td>\n",
       "    </tr>\n",
       "    <tr>\n",
       "      <th>8681</th>\n",
       "      <td>AI and real/test/real/0005.jpg0853 (6).jpg</td>\n",
       "      <td>1</td>\n",
       "    </tr>\n",
       "    <tr>\n",
       "      <th>826</th>\n",
       "      <td>AI and real/test/real/0005.jpg0080 (8).jpg</td>\n",
       "      <td>1</td>\n",
       "    </tr>\n",
       "    <tr>\n",
       "      <th>3744</th>\n",
       "      <td>AI and real/train/fake/304 (10).jpg</td>\n",
       "      <td>0</td>\n",
       "    </tr>\n",
       "    <tr>\n",
       "      <th>3740</th>\n",
       "      <td>AI and real/test/real/0005.jpg0304 (6).jpg</td>\n",
       "      <td>1</td>\n",
       "    </tr>\n",
       "  </tbody>\n",
       "</table>\n",
       "</div>"
      ],
      "text/plain": [
       "                                            path  label\n",
       "9787          AI and real/train/fake/976 (5).jpg      0\n",
       "8681  AI and real/test/real/0005.jpg0853 (6).jpg      1\n",
       "826   AI and real/test/real/0005.jpg0080 (8).jpg      1\n",
       "3744         AI and real/train/fake/304 (10).jpg      0\n",
       "3740  AI and real/test/real/0005.jpg0304 (6).jpg      1"
      ]
     },
     "execution_count": 42,
     "metadata": {},
     "output_type": "execute_result"
    }
   ],
   "source": [
    "df_test = pd.concat((df_test_fake, df_test_real), axis = 0 )\n",
    "print(df_test.shape)\n",
    "df_test.sample(5)\n"
   ]
  },
  {
   "cell_type": "markdown",
   "id": "f7be15e2",
   "metadata": {
    "papermill": {
     "duration": 0.015689,
     "end_time": "2023-05-16T02:05:25.526103",
     "exception": false,
     "start_time": "2023-05-16T02:05:25.510414",
     "status": "completed"
    },
    "tags": []
   },
   "source": [
    "## Using **\"cv2\"** to create X_test"
   ]
  },
  {
   "cell_type": "code",
   "execution_count": 43,
   "id": "2e9eaf06",
   "metadata": {},
   "outputs": [],
   "source": [
    "from glob import glob\n",
    "import pandas as pd\n",
    "\n",
    "# Assuming test images are stored like: AI and real/test/fake/ and /real/\n",
    "test_path_fake = sorted(glob(\"AI and real/test/fake/*.jpg\"))\n",
    "test_path_real = sorted(glob(\"AI and real/test/real/*.jpg\"))\n",
    "\n",
    "# Create DataFrames for fake and real\n",
    "df_test_fake = pd.DataFrame({'path': test_path_fake, 'label': 0})\n",
    "df_test_real = pd.DataFrame({'path': test_path_real, 'label': 1})\n",
    "\n",
    "# Combine them\n",
    "df_test = pd.concat([df_test_fake, df_test_real]).reset_index(drop=True)\n"
   ]
  },
  {
   "cell_type": "code",
   "execution_count": 44,
   "id": "57e59a31",
   "metadata": {},
   "outputs": [
    {
     "name": "stdout",
     "output_type": "stream",
     "text": [
      "✅ Final shape of x_test: (3271, 32, 32, 3)\n"
     ]
    }
   ],
   "source": [
    "import cv2\n",
    "import numpy as np\n",
    "\n",
    "image_test_df = []\n",
    "\n",
    "for image in df_test['path']:\n",
    "    img = cv2.imread(image)\n",
    "    \n",
    "    if img is None:\n",
    "        print(f\"⚠️ Test image not loaded: {image}\")\n",
    "        continue\n",
    "\n",
    "    resized = cv2.resize(img, (32, 32))\n",
    "    image_test_df.append(resized)\n",
    "\n",
    "x_test = np.array(image_test_df)\n",
    "x_test = x_test / 255  # Normalize\n",
    "\n",
    "print(\"✅ Final shape of x_test:\", x_test.shape)\n"
   ]
  },
  {
   "cell_type": "code",
   "execution_count": 45,
   "id": "df92e04c",
   "metadata": {
    "execution": {
     "iopub.execute_input": "2023-05-16T02:05:25.559938Z",
     "iopub.status.busy": "2023-05-16T02:05:25.559541Z",
     "iopub.status.idle": "2023-05-16T02:08:01.185535Z",
     "shell.execute_reply": "2023-05-16T02:08:01.183048Z"
    },
    "papermill": {
     "duration": 155.6614,
     "end_time": "2023-05-16T02:08:01.203496",
     "exception": false,
     "start_time": "2023-05-16T02:05:25.542096",
     "status": "completed"
    },
    "tags": []
   },
   "outputs": [],
   "source": [
    "# image_ds = []\n",
    "# for image in df_test['path']:\n",
    "#     imge = cv2.imread(image)\n",
    "#     resize = cv2.resize(imge,(32,32))\n",
    "#     image_ds.append(resize)\n",
    "# image_arry = np.array(image_ds)\n",
    "# X_test = image_arry/255\n",
    "# X_test.ndim"
   ]
  },
  {
   "cell_type": "code",
   "execution_count": 46,
   "id": "dc05e083",
   "metadata": {
    "execution": {
     "iopub.execute_input": "2023-05-16T02:08:01.238645Z",
     "iopub.status.busy": "2023-05-16T02:08:01.238234Z",
     "iopub.status.idle": "2023-05-16T02:08:01.246358Z",
     "shell.execute_reply": "2023-05-16T02:08:01.245176Z"
    },
    "papermill": {
     "duration": 0.028614,
     "end_time": "2023-05-16T02:08:01.248897",
     "exception": false,
     "start_time": "2023-05-16T02:08:01.220283",
     "status": "completed"
    },
    "tags": []
   },
   "outputs": [
    {
     "data": {
      "text/plain": [
       "0    0\n",
       "1    0\n",
       "2    0\n",
       "3    0\n",
       "4    0\n",
       "Name: label, dtype: int64"
      ]
     },
     "execution_count": 46,
     "metadata": {},
     "output_type": "execute_result"
    }
   ],
   "source": [
    "y_test = df_test['label']\n",
    "y_test.head()"
   ]
  },
  {
   "cell_type": "markdown",
   "id": "31d14a46",
   "metadata": {
    "papermill": {
     "duration": 0.017088,
     "end_time": "2023-05-16T02:08:01.283075",
     "exception": false,
     "start_time": "2023-05-16T02:08:01.265987",
     "status": "completed"
    },
    "tags": []
   },
   "source": [
    "## Importing **\"keras\"** for CNN"
   ]
  },
  {
   "cell_type": "code",
   "execution_count": 47,
   "id": "652eb47e",
   "metadata": {},
   "outputs": [
    {
     "name": "stdout",
     "output_type": "stream",
     "text": [
      "X_train shape: (4506, 32, 32, 3)\n",
      "y_train shape: (4506,)\n",
      "Epoch 1/5\n",
      "141/141 [==============================] - 5s 30ms/step - loss: 5.0530e-09 - accuracy: 1.0000\n",
      "Epoch 2/5\n",
      "141/141 [==============================] - 4s 31ms/step - loss: 5.0266e-09 - accuracy: 1.0000\n",
      "Epoch 3/5\n",
      "141/141 [==============================] - 4s 30ms/step - loss: 4.9736e-09 - accuracy: 1.0000\n",
      "Epoch 4/5\n",
      "141/141 [==============================] - 4s 32ms/step - loss: 4.9207e-09 - accuracy: 1.0000\n",
      "Epoch 5/5\n",
      "141/141 [==============================] - 4s 30ms/step - loss: 4.8414e-09 - accuracy: 1.0000\n"
     ]
    },
    {
     "data": {
      "text/plain": [
       "<keras.src.callbacks.History at 0x1d4fb201790>"
      ]
     },
     "execution_count": 47,
     "metadata": {},
     "output_type": "execute_result"
    }
   ],
   "source": [
    "# Make sure these exist\n",
    "print(\"X_train shape:\", X_train.shape)\n",
    "print(\"y_train shape:\", y_train.shape)\n",
    "\n",
    "# Then fit the model\n",
    "model.fit(X_train, y_train, epochs=5)\n"
   ]
  },
  {
   "cell_type": "code",
   "execution_count": 48,
   "id": "5306ca43",
   "metadata": {
    "execution": {
     "iopub.execute_input": "2023-05-16T02:08:01.319286Z",
     "iopub.status.busy": "2023-05-16T02:08:01.318899Z",
     "iopub.status.idle": "2023-05-16T02:18:20.192423Z",
     "shell.execute_reply": "2023-05-16T02:18:20.191546Z"
    },
    "papermill": {
     "duration": 618.894231,
     "end_time": "2023-05-16T02:18:20.194943",
     "exception": false,
     "start_time": "2023-05-16T02:08:01.300712",
     "status": "completed"
    },
    "tags": []
   },
   "outputs": [
    {
     "name": "stdout",
     "output_type": "stream",
     "text": [
      "Epoch 1/25\n",
      "141/141 [==============================] - 5s 30ms/step - loss: 0.0253 - accuracy: 0.9929\n",
      "Epoch 2/25\n",
      "141/141 [==============================] - 4s 29ms/step - loss: 5.9404e-07 - accuracy: 1.0000\n",
      "Epoch 3/25\n",
      "141/141 [==============================] - 4s 29ms/step - loss: 5.7839e-07 - accuracy: 1.0000\n",
      "Epoch 4/25\n",
      "141/141 [==============================] - 4s 29ms/step - loss: 5.5938e-07 - accuracy: 1.0000\n",
      "Epoch 5/25\n",
      "141/141 [==============================] - 4s 29ms/step - loss: 5.3799e-07 - accuracy: 1.0000\n",
      "Epoch 6/25\n",
      "141/141 [==============================] - 4s 29ms/step - loss: 5.1467e-07 - accuracy: 1.0000\n",
      "Epoch 7/25\n",
      "141/141 [==============================] - 4s 29ms/step - loss: 4.8805e-07 - accuracy: 1.0000\n",
      "Epoch 8/25\n",
      "141/141 [==============================] - 4s 30ms/step - loss: 4.5891e-07 - accuracy: 1.0000\n",
      "Epoch 9/25\n",
      "141/141 [==============================] - 4s 29ms/step - loss: 4.3251e-07 - accuracy: 1.0000\n",
      "Epoch 10/25\n",
      "141/141 [==============================] - 4s 29ms/step - loss: 4.0541e-07 - accuracy: 1.0000\n",
      "Epoch 11/25\n",
      "141/141 [==============================] - 4s 29ms/step - loss: 3.7548e-07 - accuracy: 1.0000\n",
      "Epoch 12/25\n",
      "141/141 [==============================] - 4s 29ms/step - loss: 2.9631e-07 - accuracy: 1.0000\n",
      "Epoch 13/25\n",
      "141/141 [==============================] - 4s 31ms/step - loss: 2.2478e-07 - accuracy: 1.0000\n",
      "Epoch 14/25\n",
      "141/141 [==============================] - 4s 31ms/step - loss: 1.7630e-07 - accuracy: 1.0000\n",
      "Epoch 15/25\n",
      "141/141 [==============================] - 4s 30ms/step - loss: 1.4059e-07 - accuracy: 1.0000\n",
      "Epoch 16/25\n",
      "141/141 [==============================] - 4s 32ms/step - loss: 1.1565e-07 - accuracy: 1.0000\n",
      "Epoch 17/25\n",
      "141/141 [==============================] - 4s 30ms/step - loss: 9.5867e-08 - accuracy: 1.0000\n",
      "Epoch 18/25\n",
      "141/141 [==============================] - 4s 31ms/step - loss: 8.0234e-08 - accuracy: 1.0000\n",
      "Epoch 19/25\n",
      "141/141 [==============================] - 4s 31ms/step - loss: 6.7934e-08 - accuracy: 1.0000\n",
      "Epoch 20/25\n",
      "141/141 [==============================] - 4s 31ms/step - loss: 5.8464e-08 - accuracy: 1.0000\n",
      "Epoch 21/25\n",
      "141/141 [==============================] - 4s 30ms/step - loss: 4.9866e-08 - accuracy: 1.0000\n",
      "Epoch 22/25\n",
      "141/141 [==============================] - 4s 30ms/step - loss: 4.2962e-08 - accuracy: 1.0000\n",
      "Epoch 23/25\n",
      "141/141 [==============================] - 5s 34ms/step - loss: 3.7486e-08 - accuracy: 1.0000\n",
      "Epoch 24/25\n",
      "141/141 [==============================] - 4s 31ms/step - loss: 3.3015e-08 - accuracy: 1.0000\n",
      "Epoch 25/25\n",
      "141/141 [==============================] - 4s 30ms/step - loss: 2.8942e-08 - accuracy: 1.0000\n"
     ]
    },
    {
     "data": {
      "text/plain": [
       "<keras.src.callbacks.History at 0x1d4fc614a90>"
      ]
     },
     "execution_count": 48,
     "metadata": {},
     "output_type": "execute_result"
    }
   ],
   "source": [
    "# from tensorflow.keras import models , layers\n",
    "\n",
    "# model = models.Sequential([\n",
    "#     layers.Conv2D(filters = 80 , kernel_size = (3,3),activation = 'relu',input_shape= (32,32,3)),\n",
    "#     layers.MaxPool2D((2,2)),\n",
    "#     layers.Conv2D(filters = 40 , kernel_size = (3,3),activation = 'relu'),\n",
    "#     layers.MaxPool2D((2,2)),\n",
    "#     layers.Conv2D(filters = 20 , kernel_size = (3,3),activation = 'relu'),\n",
    "#     layers.MaxPool2D((2,2)),\n",
    "    \n",
    "#     layers.Flatten(),\n",
    "#     layers.Dense(10,activation = 'relu'),\n",
    "#     layers.Dense(2,activation = 'sigmoid'),\n",
    "#                          ])\n",
    "\n",
    "# model.compile(\n",
    "#     optimizer = 'adam',\n",
    "#     loss= 'sparse_categorical_crossentropy',\n",
    "#     metrics = ['accuracy']\n",
    "#              )\n",
    "\n",
    "# model.fit(X_train,y_train, epochs = 5)\n",
    "from tensorflow.keras import models, layers\n",
    "\n",
    "model = models.Sequential([\n",
    "    layers.Conv2D(80, (3, 3), activation='relu', input_shape=(32, 32, 3)),\n",
    "    layers.MaxPool2D((2, 2)),\n",
    "    layers.Conv2D(40, (3, 3), activation='relu'),\n",
    "    layers.MaxPool2D((2, 2)),\n",
    "    layers.Conv2D(20, (3, 3), activation='relu'),\n",
    "    layers.MaxPool2D((2, 2)),\n",
    "    \n",
    "    layers.Flatten(),\n",
    "    layers.Dense(10, activation='relu'),\n",
    "    layers.Dense(2, activation='softmax')  # ✅ Use softmax here\n",
    "])\n",
    "\n",
    "model.compile(\n",
    "    optimizer='adam',\n",
    "    loss='sparse_categorical_crossentropy',\n",
    "    metrics=['accuracy']\n",
    ")\n",
    "\n",
    "model.fit(X_train, y_train, epochs=25)\n",
    "\n"
   ]
  },
  {
   "cell_type": "code",
   "execution_count": 49,
   "id": "29c15d6e",
   "metadata": {},
   "outputs": [],
   "source": [
    "from glob import glob\n",
    "import pandas as pd\n",
    "\n",
    "# Adjust path as needed (real or fake test images)\n",
    "test_path_fake = sorted(glob(\"AI and real/test/fake/*.jpg\"))\n",
    "df_test = pd.DataFrame({'path': test_path_fake, 'label': 0})\n"
   ]
  },
  {
   "cell_type": "code",
   "execution_count": 50,
   "id": "4a4daa80",
   "metadata": {},
   "outputs": [],
   "source": [
    "test_path_real = sorted(glob(\"AI and real/test/real/*.jpg\"))\n",
    "df_real = pd.DataFrame({'path': test_path_real, 'label': 1})\n",
    "\n",
    "# Combine fake and real\n",
    "df_test = pd.concat([df_test, df_real]).reset_index(drop=True)\n"
   ]
  },
  {
   "cell_type": "code",
   "execution_count": 51,
   "id": "2bc1c6f1",
   "metadata": {},
   "outputs": [],
   "source": [
    "import cv2\n",
    "import numpy as np\n",
    "\n",
    "image_ds = []\n",
    "\n",
    "for image in df_test['path']:\n",
    "    imge = cv2.imread(image)\n",
    "\n",
    "    if imge is None:\n",
    "        print(f\"⚠️ Image not loaded: {image}\")\n",
    "        continue\n",
    "\n",
    "    resize = cv2.resize(imge, (32, 32))\n",
    "    image_ds.append(resize)\n",
    "\n",
    "image_arry = np.array(image_ds)\n",
    "X_test = image_arry / 255  # Normalize\n"
   ]
  },
  {
   "cell_type": "code",
   "execution_count": 52,
   "id": "e7f3f638",
   "metadata": {},
   "outputs": [],
   "source": [
    "y_test = df_test['label'].values\n"
   ]
  },
  {
   "cell_type": "code",
   "execution_count": 53,
   "id": "02dfb93f",
   "metadata": {},
   "outputs": [
    {
     "name": "stdout",
     "output_type": "stream",
     "text": [
      "103/103 [==============================] - 1s 11ms/step - loss: 23.3737 - accuracy: 0.3886\n"
     ]
    },
    {
     "data": {
      "text/plain": [
       "[23.373674392700195, 0.38856619596481323]"
      ]
     },
     "execution_count": 53,
     "metadata": {},
     "output_type": "execute_result"
    }
   ],
   "source": [
    "model.evaluate(X_test, y_test)\n"
   ]
  },
  {
   "cell_type": "code",
   "execution_count": 54,
   "id": "878d8056",
   "metadata": {
    "execution": {
     "iopub.execute_input": "2023-05-16T02:18:21.738827Z",
     "iopub.status.busy": "2023-05-16T02:18:21.738132Z",
     "iopub.status.idle": "2023-05-16T02:18:28.870939Z",
     "shell.execute_reply": "2023-05-16T02:18:28.869951Z"
    },
    "papermill": {
     "duration": 7.944021,
     "end_time": "2023-05-16T02:18:28.873566",
     "exception": false,
     "start_time": "2023-05-16T02:18:20.929545",
     "status": "completed"
    },
    "tags": []
   },
   "outputs": [
    {
     "name": "stdout",
     "output_type": "stream",
     "text": [
      "103/103 [==============================] - 1s 11ms/step - loss: 23.3737 - accuracy: 0.3886\n"
     ]
    },
    {
     "data": {
      "text/plain": [
       "[23.373674392700195, 0.38856619596481323]"
      ]
     },
     "execution_count": 54,
     "metadata": {},
     "output_type": "execute_result"
    }
   ],
   "source": [
    "model.evaluate(X_test,y_test)"
   ]
  },
  {
   "cell_type": "code",
   "execution_count": 55,
   "id": "11cc7ccc",
   "metadata": {
    "execution": {
     "iopub.execute_input": "2023-05-16T02:18:30.357528Z",
     "iopub.status.busy": "2023-05-16T02:18:30.356831Z",
     "iopub.status.idle": "2023-05-16T02:18:37.597581Z",
     "shell.execute_reply": "2023-05-16T02:18:37.596237Z"
    },
    "papermill": {
     "duration": 7.988,
     "end_time": "2023-05-16T02:18:37.600498",
     "exception": false,
     "start_time": "2023-05-16T02:18:29.612498",
     "status": "completed"
    },
    "tags": []
   },
   "outputs": [
    {
     "name": "stdout",
     "output_type": "stream",
     "text": [
      "103/103 [==============================] - 1s 10ms/step\n"
     ]
    }
   ],
   "source": [
    "y_pred  = model.predict(X_test)"
   ]
  },
  {
   "cell_type": "code",
   "execution_count": 56,
   "id": "e3f5ba82",
   "metadata": {
    "execution": {
     "iopub.execute_input": "2023-05-16T02:18:39.186015Z",
     "iopub.status.busy": "2023-05-16T02:18:39.185324Z",
     "iopub.status.idle": "2023-05-16T02:18:39.276918Z",
     "shell.execute_reply": "2023-05-16T02:18:39.275636Z"
    },
    "papermill": {
     "duration": 0.848316,
     "end_time": "2023-05-16T02:18:39.279666",
     "exception": false,
     "start_time": "2023-05-16T02:18:38.431350",
     "status": "completed"
    },
    "tags": []
   },
   "outputs": [
    {
     "data": {
      "text/plain": [
       "[0, 0, 0, 0, 0]"
      ]
     },
     "execution_count": 56,
     "metadata": {},
     "output_type": "execute_result"
    }
   ],
   "source": [
    "y_pred_label = [np.argmax(i) for i in y_pred]\n",
    "y_pred_label[:5]"
   ]
  },
  {
   "cell_type": "code",
   "execution_count": null,
   "id": "d7ec10ec",
   "metadata": {},
   "outputs": [],
   "source": []
  },
  {
   "cell_type": "markdown",
   "id": "6b6c3b96",
   "metadata": {
    "papermill": {
     "duration": 0.754485,
     "end_time": "2023-05-16T02:18:40.798518",
     "exception": false,
     "start_time": "2023-05-16T02:18:40.044033",
     "status": "completed"
    },
    "tags": []
   },
   "source": [
    "## Classification Report"
   ]
  },
  {
   "cell_type": "code",
   "execution_count": 57,
   "id": "19e35551",
   "metadata": {
    "execution": {
     "iopub.execute_input": "2023-05-16T02:18:42.388632Z",
     "iopub.status.busy": "2023-05-16T02:18:42.387900Z",
     "iopub.status.idle": "2023-05-16T02:18:43.346602Z",
     "shell.execute_reply": "2023-05-16T02:18:43.345426Z"
    },
    "papermill": {
     "duration": 1.719765,
     "end_time": "2023-05-16T02:18:43.348933",
     "exception": false,
     "start_time": "2023-05-16T02:18:41.629168",
     "status": "completed"
    },
    "tags": []
   },
   "outputs": [
    {
     "name": "stdout",
     "output_type": "stream",
     "text": [
      "Classification Report     : \n",
      "\n",
      "\n",
      "               precision    recall  f1-score   support\n",
      "\n",
      "           0       0.39      1.00      0.56      1271\n",
      "           1       0.00      0.00      0.00      2000\n",
      "\n",
      "    accuracy                           0.39      3271\n",
      "   macro avg       0.19      0.50      0.28      3271\n",
      "weighted avg       0.15      0.39      0.22      3271\n",
      "\n"
     ]
    },
    {
     "name": "stderr",
     "output_type": "stream",
     "text": [
      "c:\\Users\\MEKALA POOJA\\anaconda3\\Lib\\site-packages\\sklearn\\metrics\\_classification.py:1469: UndefinedMetricWarning: Precision and F-score are ill-defined and being set to 0.0 in labels with no predicted samples. Use `zero_division` parameter to control this behavior.\n",
      "  _warn_prf(average, modifier, msg_start, len(result))\n",
      "c:\\Users\\MEKALA POOJA\\anaconda3\\Lib\\site-packages\\sklearn\\metrics\\_classification.py:1469: UndefinedMetricWarning: Precision and F-score are ill-defined and being set to 0.0 in labels with no predicted samples. Use `zero_division` parameter to control this behavior.\n",
      "  _warn_prf(average, modifier, msg_start, len(result))\n",
      "c:\\Users\\MEKALA POOJA\\anaconda3\\Lib\\site-packages\\sklearn\\metrics\\_classification.py:1469: UndefinedMetricWarning: Precision and F-score are ill-defined and being set to 0.0 in labels with no predicted samples. Use `zero_division` parameter to control this behavior.\n",
      "  _warn_prf(average, modifier, msg_start, len(result))\n"
     ]
    }
   ],
   "source": [
    "from sklearn.metrics import classification_report\n",
    "\n",
    "print('Classification Report     : \\n\\n\\n' , classification_report(y_test,y_pred_label))"
   ]
  },
  {
   "cell_type": "markdown",
   "id": "b5723beb",
   "metadata": {
    "papermill": {
     "duration": 0.831854,
     "end_time": "2023-05-16T02:18:44.943762",
     "exception": false,
     "start_time": "2023-05-16T02:18:44.111908",
     "status": "completed"
    },
    "tags": []
   },
   "source": [
    "## Confusion Matrix "
   ]
  },
  {
   "cell_type": "code",
   "execution_count": 58,
   "id": "d1843e70",
   "metadata": {
    "execution": {
     "iopub.execute_input": "2023-05-16T02:18:46.460856Z",
     "iopub.status.busy": "2023-05-16T02:18:46.460442Z",
     "iopub.status.idle": "2023-05-16T02:18:46.476007Z",
     "shell.execute_reply": "2023-05-16T02:18:46.474843Z"
    },
    "papermill": {
     "duration": 0.779442,
     "end_time": "2023-05-16T02:18:46.478970",
     "exception": false,
     "start_time": "2023-05-16T02:18:45.699528",
     "status": "completed"
    },
    "tags": []
   },
   "outputs": [],
   "source": [
    "from sklearn.metrics import confusion_matrix\n",
    "\n",
    "cm = confusion_matrix(y_test , y_pred_label)"
   ]
  },
  {
   "cell_type": "code",
   "execution_count": 59,
   "id": "da6ea6e6",
   "metadata": {
    "execution": {
     "iopub.execute_input": "2023-05-16T02:18:48.087867Z",
     "iopub.status.busy": "2023-05-16T02:18:48.087454Z",
     "iopub.status.idle": "2023-05-16T02:18:49.048657Z",
     "shell.execute_reply": "2023-05-16T02:18:49.047561Z"
    },
    "papermill": {
     "duration": 1.720016,
     "end_time": "2023-05-16T02:18:49.051196",
     "exception": false,
     "start_time": "2023-05-16T02:18:47.331180",
     "status": "completed"
    },
    "tags": []
   },
   "outputs": [
    {
     "data": {
      "image/png": "[encoded data removed]",
      "text/plain": [
       "<Figure size 400x400 with 2 Axes>"
      ]
     },
     "metadata": {},
     "output_type": "display_data"
    }
   ],
   "source": [
    "import matplotlib.pyplot as plt\n",
    "import seaborn as sn\n",
    "\n",
    "\n",
    "plt.figure(figsize=(4,4), facecolor= 'pink', edgecolor='brown')\n",
    "sn.heatmap(cm , annot= True, fmt=\"d\")\n",
    "plt.xlabel('Prediction', fontdict= {'family':'fantasy','color':'black','size':15})\n",
    "plt.ylabel('Truth', fontdict= {'family':'fantasy','color':'black','size':15})\n",
    "plt.title('Confusion Matrix',fontdict= {'family':'fantasy','color':'red','size':20})\n",
    "plt.show()"
   ]
  },
  {
   "cell_type": "markdown",
   "id": "8ccbb5cd",
   "metadata": {
    "papermill": {
     "duration": 0.758907,
     "end_time": "2023-05-16T02:18:50.609777",
     "exception": false,
     "start_time": "2023-05-16T02:18:49.850870",
     "status": "completed"
    },
    "tags": []
   },
   "source": [
    "## **THANK YOU !**"
   ]
  },
  {
   "cell_type": "code",
   "execution_count": 60,
   "id": "6aa205b0",
   "metadata": {},
   "outputs": [
    {
     "name": "stderr",
     "output_type": "stream",
     "text": [
      "c:\\Users\\MEKALA POOJA\\anaconda3\\Lib\\site-packages\\keras\\src\\engine\\training.py:3079: UserWarning: You are saving your model as an HDF5 file via `model.save()`. This file format is considered legacy. We recommend using instead the native Keras format, e.g. `model.save('my_model.keras')`.\n",
      "  saving_api.save_model(\n"
     ]
    }
   ],
   "source": [
    "model.save(\"model.h5\")\n"
   ]
  },
  {
   "cell_type": "code",
   "execution_count": 61,
   "id": "c79cf3aa",
   "metadata": {},
   "outputs": [
    {
     "name": "stdout",
     "output_type": "stream",
     "text": [
      "Requirement already satisfied: streamlit in c:\\users\\mekala pooja\\anaconda3\\lib\\site-packages (1.46.0)\n",
      "Requirement already satisfied: altair<6,>=4.0 in c:\\users\\mekala pooja\\anaconda3\\lib\\site-packages (from streamlit) (5.5.0)\n",
      "Requirement already satisfied: blinker<2,>=1.5.0 in c:\\users\\mekala pooja\\anaconda3\\lib\\site-packages (from streamlit) (1.9.0)\n",
      "Requirement already satisfied: cachetools<7,>=4.0 in c:\\users\\mekala pooja\\anaconda3\\lib\\site-packages (from streamlit) (5.3.2)\n",
      "Requirement already satisfied: click<9,>=7.0 in c:\\users\\mekala pooja\\anaconda3\\lib\\site-packages (from streamlit) (8.0.4)\n",
      "Requirement already satisfied: numpy<3,>=1.23 in c:\\users\\mekala pooja\\anaconda3\\lib\\site-packages (from streamlit) (1.24.3)\n",
      "Requirement already satisfied: packaging<26,>=20 in c:\\users\\mekala pooja\\anaconda3\\lib\\site-packages (from streamlit) (23.1)\n",
      "Requirement already satisfied: pandas<3,>=1.4.0 in c:\\users\\mekala pooja\\anaconda3\\lib\\site-packages (from streamlit) (2.0.3)\n",
      "Requirement already satisfied: pillow<12,>=7.1.0 in c:\\users\\mekala pooja\\anaconda3\\lib\\site-packages (from streamlit) (9.4.0)\n",
      "Requirement already satisfied: protobuf<7,>=3.20 in c:\\users\\mekala pooja\\anaconda3\\lib\\site-packages (from streamlit) (4.24.4)\n",
      "Requirement already satisfied: pyarrow>=7.0 in c:\\users\\mekala pooja\\anaconda3\\lib\\site-packages (from streamlit) (11.0.0)\n",
      "Requirement already satisfied: requests<3,>=2.27 in c:\\users\\mekala pooja\\anaconda3\\lib\\site-packages (from streamlit) (2.31.0)\n",
      "Requirement already satisfied: tenacity<10,>=8.1.0 in c:\\users\\mekala pooja\\anaconda3\\lib\\site-packages (from streamlit) (8.2.2)\n",
      "Requirement already satisfied: toml<2,>=0.10.1 in c:\\users\\mekala pooja\\anaconda3\\lib\\site-packages (from streamlit) (0.10.2)\n",
      "Requirement already satisfied: typing-extensions<5,>=4.4.0 in c:\\users\\mekala pooja\\anaconda3\\lib\\site-packages (from streamlit) (4.14.0)\n",
      "Requirement already satisfied: watchdog<7,>=2.1.5 in c:\\users\\mekala pooja\\anaconda3\\lib\\site-packages (from streamlit) (2.1.6)\n",
      "Requirement already satisfied: gitpython!=3.1.19,<4,>=3.0.7 in c:\\users\\mekala pooja\\anaconda3\\lib\\site-packages (from streamlit) (3.1.44)\n",
      "Requirement already satisfied: pydeck<1,>=0.8.0b4 in c:\\users\\mekala pooja\\anaconda3\\lib\\site-packages (from streamlit) (0.9.1)\n",
      "Requirement already satisfied: tornado!=6.5.0,<7,>=6.0.3 in c:\\users\\mekala pooja\\anaconda3\\lib\\site-packages (from streamlit) (6.3.2)\n",
      "Requirement already satisfied: jinja2 in c:\\users\\mekala pooja\\anaconda3\\lib\\site-packages (from altair<6,>=4.0->streamlit) (3.1.2)\n",
      "Requirement already satisfied: jsonschema>=3.0 in c:\\users\\mekala pooja\\anaconda3\\lib\\site-packages (from altair<6,>=4.0->streamlit) (4.17.3)\n",
      "Requirement already satisfied: narwhals>=1.14.2 in c:\\users\\mekala pooja\\anaconda3\\lib\\site-packages (from altair<6,>=4.0->streamlit) (1.44.0)\n",
      "Requirement already satisfied: colorama in c:\\users\\mekala pooja\\anaconda3\\lib\\site-packages (from click<9,>=7.0->streamlit) (0.4.6)\n",
      "Requirement already satisfied: gitdb<5,>=4.0.1 in c:\\users\\mekala pooja\\anaconda3\\lib\\site-packages (from gitpython!=3.1.19,<4,>=3.0.7->streamlit) (4.0.12)\n",
      "Requirement already satisfied: python-dateutil>=2.8.2 in c:\\users\\mekala pooja\\anaconda3\\lib\\site-packages (from pandas<3,>=1.4.0->streamlit) (2.8.2)\n",
      "Requirement already satisfied: pytz>=2020.1 in c:\\users\\mekala pooja\\anaconda3\\lib\\site-packages (from pandas<3,>=1.4.0->streamlit) (2023.3.post1)\n",
      "Requirement already satisfied: tzdata>=2022.1 in c:\\users\\mekala pooja\\anaconda3\\lib\\site-packages (from pandas<3,>=1.4.0->streamlit) (2023.3)\n",
      "Requirement already satisfied: charset-normalizer<4,>=2 in c:\\users\\mekala pooja\\anaconda3\\lib\\site-packages (from requests<3,>=2.27->streamlit) (2.0.4)\n",
      "Requirement already satisfied: idna<4,>=2.5 in c:\\users\\mekala pooja\\anaconda3\\lib\\site-packages (from requests<3,>=2.27->streamlit) (3.4)\n",
      "Requirement already satisfied: urllib3<3,>=1.21.1 in c:\\users\\mekala pooja\\anaconda3\\lib\\site-packages (from requests<3,>=2.27->streamlit) (1.26.16)\n",
      "Requirement already satisfied: certifi>=2017.4.17 in c:\\users\\mekala pooja\\anaconda3\\lib\\site-packages (from requests<3,>=2.27->streamlit) (2023.7.22)\n",
      "Requirement already satisfied: smmap<6,>=3.0.1 in c:\\users\\mekala pooja\\anaconda3\\lib\\site-packages (from gitdb<5,>=4.0.1->gitpython!=3.1.19,<4,>=3.0.7->streamlit) (5.0.2)\n",
      "Requirement already satisfied: MarkupSafe>=2.0 in c:\\users\\mekala pooja\\anaconda3\\lib\\site-packages (from jinja2->altair<6,>=4.0->streamlit) (2.1.1)\n",
      "Requirement already satisfied: attrs>=17.4.0 in c:\\users\\mekala pooja\\anaconda3\\lib\\site-packages (from jsonschema>=3.0->altair<6,>=4.0->streamlit) (22.1.0)\n",
      "Requirement already satisfied: pyrsistent!=0.17.0,!=0.17.1,!=0.17.2,>=0.14.0 in c:\\users\\mekala pooja\\anaconda3\\lib\\site-packages (from jsonschema>=3.0->altair<6,>=4.0->streamlit) (0.18.0)\n",
      "Requirement already satisfied: six>=1.5 in c:\\users\\mekala pooja\\anaconda3\\lib\\site-packages (from python-dateutil>=2.8.2->pandas<3,>=1.4.0->streamlit) (1.16.0)\n"
     ]
    }
   ],
   "source": [
    "!pip install streamlit\n"
   ]
  },
  {
   "cell_type": "code",
   "execution_count": 62,
   "id": "081fc85c",
   "metadata": {},
   "outputs": [
    {
     "name": "stderr",
     "output_type": "stream",
     "text": [
      "2025-06-25 01:30:01.555 WARNING streamlit.runtime.scriptrunner_utils.script_run_context: Thread 'MainThread': missing ScriptRunContext! This warning can be ignored when running in bare mode.\n",
      "2025-06-25 01:30:04.646 \n",
      "  \u001b[33m\u001b[1mWarning:\u001b[0m to view this Streamlit app on a browser, run it with the following\n",
      "  command:\n",
      "\n",
      "    streamlit run c:\\Users\\MEKALA POOJA\\anaconda3\\Lib\\site-packages\\ipykernel_launcher.py [ARGUMENTS]\n",
      "2025-06-25 01:30:04.648 Thread 'MainThread': missing ScriptRunContext! This warning can be ignored when running in bare mode.\n",
      "2025-06-25 01:30:04.648 Thread 'MainThread': missing ScriptRunContext! This warning can be ignored when running in bare mode.\n",
      "2025-06-25 01:30:04.648 Thread 'MainThread': missing ScriptRunContext! This warning can be ignored when running in bare mode.\n",
      "2025-06-25 01:30:04.754 Thread 'MainThread': missing ScriptRunContext! This warning can be ignored when running in bare mode.\n",
      "2025-06-25 01:30:04.770 Thread 'MainThread': missing ScriptRunContext! This warning can be ignored when running in bare mode.\n",
      "2025-06-25 01:30:04.770 Thread 'MainThread': missing ScriptRunContext! This warning can be ignored when running in bare mode.\n",
      "2025-06-25 01:30:04.770 Thread 'MainThread': missing ScriptRunContext! This warning can be ignored when running in bare mode.\n",
      "2025-06-25 01:30:04.770 Thread 'MainThread': missing ScriptRunContext! This warning can be ignored when running in bare mode.\n",
      "2025-06-25 01:30:04.770 Thread 'MainThread': missing ScriptRunContext! This warning can be ignored when running in bare mode.\n",
      "2025-06-25 01:30:04.770 Thread 'MainThread': missing ScriptRunContext! This warning can be ignored when running in bare mode.\n",
      "2025-06-25 01:30:04.770 Thread 'MainThread': missing ScriptRunContext! This warning can be ignored when running in bare mode.\n",
      "2025-06-25 01:30:04.770 Thread 'MainThread': missing ScriptRunContext! This warning can be ignored when running in bare mode.\n",
      "2025-06-25 01:30:04.770 Thread 'MainThread': missing ScriptRunContext! This warning can be ignored when running in bare mode.\n",
      "2025-06-25 01:30:04.770 Thread 'MainThread': missing ScriptRunContext! This warning can be ignored when running in bare mode.\n",
      "2025-06-25 01:30:04.770 Thread 'MainThread': missing ScriptRunContext! This warning can be ignored when running in bare mode.\n",
      "2025-06-25 01:30:04.770 Thread 'MainThread': missing ScriptRunContext! This warning can be ignored when running in bare mode.\n",
      "2025-06-25 01:30:04.770 Thread 'MainThread': missing ScriptRunContext! This warning can be ignored when running in bare mode.\n",
      "2025-06-25 01:30:04.770 Thread 'MainThread': missing ScriptRunContext! This warning can be ignored when running in bare mode.\n"
     ]
    }
   ],
   "source": [
    "import streamlit as st\n",
    "import tensorflow as tf\n",
    "import numpy as np\n",
    "import cv2\n",
    "from PIL import Image\n",
    "\n",
    "# Load the model\n",
    "@st.cache_resource\n",
    "def load_model():\n",
    "    model = tf.keras.models.load_model(\"model.h5\")  # ✅ Make sure this matches your saved file\n",
    "    return model\n",
    "\n",
    "model = load_model()\n",
    "\n",
    "st.title(\"🧠 Real vs AI-Generated Image Detector\")\n",
    "st.write(\"Upload an image to classify it as **Real** or **AI-generated (Fake)**.\")\n",
    "\n",
    "uploaded_file = st.file_uploader(\"📤 Upload Image\", type=[\"jpg\", \"jpeg\", \"png\"])\n",
    "\n",
    "def preprocess_image(image):\n",
    "    img = image.resize((32, 32))               # ✅ Resize\n",
    "    img = np.array(img) / 255.0                # ✅ Normalize\n",
    "    img = np.expand_dims(img, axis=0)          # ✅ Add batch dimension\n",
    "    return img\n",
    "\n",
    "if uploaded_file is not None:\n",
    "    image = Image.open(uploaded_file).convert(\"RGB\")\n",
    "    st.image(image, caption=\"Uploaded Image\", use_column_width=True)\n",
    "\n",
    "    processed = preprocess_image(image)\n",
    "    prediction = model.predict(processed)\n",
    "    predicted_class = np.argmax(prediction)\n",
    "    confidence = np.max(prediction) * 100\n",
    "\n",
    "    class_names = ['Fake Image', 'Real Image']\n",
    "    \n",
    "    st.markdown(f\"### Prediction: **{class_names[predicted_class]}**\")\n",
    "    st.markdown(f\"Confidence: `{confidence:.2f}%`\")\n"
   ]
  },
  {
   "cell_type": "code",
   "execution_count": 63,
   "id": "906f79c1",
   "metadata": {},
   "outputs": [
    {
     "name": "stdout",
     "output_type": "stream",
     "text": [
      "^C\n"
     ]
    }
   ],
   "source": [
    "!streamlit run Newapp.py\n"
   ]
  }
 ],
 "metadata": {
  "kernelspec": {
   "display_name": "base",
   "language": "python",
   "name": "python3"
  },
  "language_info": {
   "codemirror_mode": {
    "name": "ipython",
    "version": 3
   },
   "file_extension": ".py",
   "mimetype": "text/x-python",
   "name": "python",
   "nbconvert_exporter": "python",
   "pygments_lexer": "ipython3",
   "version": "3.11.5"
  },
  "papermill": {
   "default_parameters": {},
   "duration": 1602.885985,
   "end_time": "2023-05-16T02:18:54.287650",
   "environment_variables": {},
   "exception": null,
   "input_path": "__notebook__.ipynb",
   "output_path": "__notebook__.ipynb",
   "parameters": {},
   "start_time": "2023-05-16T01:52:11.401665",
   "version": "2.4.0"
  }
 },
 "nbformat": 4,
 "nbformat_minor": 5
}
